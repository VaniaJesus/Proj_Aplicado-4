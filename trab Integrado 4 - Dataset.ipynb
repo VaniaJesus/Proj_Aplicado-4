{
 "cells": [
  {
   "cell_type": "code",
   "execution_count": 2,
   "id": "4af14ca2",
   "metadata": {},
   "outputs": [],
   "source": [
    "import pandas as pd\n"
   ]
  },
  {
   "cell_type": "code",
   "execution_count": 4,
   "id": "db84fc18",
   "metadata": {},
   "outputs": [
    {
     "name": "stdout",
     "output_type": "stream",
     "text": [
      "        Data      Hora          Estacao Codigo Poluente        Valor Unidade  \\\n",
      "0 2020-01-01  01:00:00  Cerqueira César   SP14       CO   748.596882   ug/m3   \n",
      "1 2020-01-01  02:00:00  Cerqueira César   SP14       CO   623.830735   ug/m3   \n",
      "2 2020-01-01  03:00:00  Cerqueira César   SP14       CO   873.363029   ug/m3   \n",
      "3 2020-01-01  04:00:00  Cerqueira César   SP14       CO  1122.895323   ug/m3   \n",
      "4 2020-01-02  06:00:00  Cerqueira César   SP14       CO   249.532294   ug/m3   \n",
      "\n",
      "         Tipo  \n",
      "0  automatica  \n",
      "1  automatica  \n",
      "2  automatica  \n",
      "3  automatica  \n",
      "4  automatica  \n"
     ]
    }
   ],
   "source": [
    "pol = pd.read_excel(\"C:\\\\Users\\\\kika_\\\\OneDrive\\\\Área de Trabalho\\\\dados\\\\Base de Dados - Poluição V1.xlsx\")\n",
    "\n",
    "print(pol.head())"
   ]
  },
  {
   "cell_type": "code",
   "execution_count": 5,
   "id": "dbc58d13",
   "metadata": {},
   "outputs": [
    {
     "name": "stdout",
     "output_type": "stream",
     "text": [
      "<class 'pandas.core.frame.DataFrame'>\n",
      "RangeIndex: 1047417 entries, 0 to 1047416\n",
      "Data columns (total 8 columns):\n",
      " #   Column    Non-Null Count    Dtype         \n",
      "---  ------    --------------    -----         \n",
      " 0   Data      1047417 non-null  datetime64[ns]\n",
      " 1   Hora      1047417 non-null  object        \n",
      " 2   Estacao   1047417 non-null  object        \n",
      " 3   Codigo    1016020 non-null  object        \n",
      " 4   Poluente  1047417 non-null  object        \n",
      " 5   Valor     1047417 non-null  float64       \n",
      " 6   Unidade   1047417 non-null  object        \n",
      " 7   Tipo      1047417 non-null  object        \n",
      "dtypes: datetime64[ns](1), float64(1), object(6)\n",
      "memory usage: 63.9+ MB\n",
      "None\n"
     ]
    }
   ],
   "source": [
    "print(pol.info())"
   ]
  },
  {
   "cell_type": "code",
   "execution_count": 10,
   "id": "237925f2",
   "metadata": {},
   "outputs": [
    {
     "data": {
      "text/plain": [
       "Marg. Tietê - Pte dos Remédios    118006\n",
       "Congonhas                         113105\n",
       "Itaim Paulista                     94565\n",
       "Cerqueira César                    87355\n",
       "Ibirapuera                         83380\n",
       "Interlagos                         65836\n",
       "Pinheiros                          63270\n",
       "Grajaú - Parelheiros               52888\n",
       "Nossa Senhora do Ó                 47531\n",
       "Pico do Jaraguá                    46448\n",
       "Cid.Universitária USP - IPEN       45700\n",
       "Perus                              43218\n",
       "Parque Dom Pedro II                41839\n",
       "Santo Amaro                        36106\n",
       "Santana                            32588\n",
       "Capão Redondo                      25846\n",
       "Mooca                              22643\n",
       "Carapicuíba                        20030\n",
       "Itaquera                            6848\n",
       "Campos Elíseos                       112\n",
       "Tatuapé                              103\n",
       "Name: Estacao, dtype: int64"
      ]
     },
     "execution_count": 10,
     "metadata": {},
     "output_type": "execute_result"
    }
   ],
   "source": [
    "pol['Estacao'].value_counts()"
   ]
  },
  {
   "cell_type": "code",
   "execution_count": 11,
   "id": "5cb31ee6",
   "metadata": {},
   "outputs": [
    {
     "data": {
      "text/plain": [
       "O3       241809\n",
       "MP10     239221\n",
       "MP2.5    204585\n",
       "NO2      151510\n",
       "CO       128467\n",
       "SO2       81076\n",
       "FMC         501\n",
       "PTS         248\n",
       "Name: Poluente, dtype: int64"
      ]
     },
     "execution_count": 11,
     "metadata": {},
     "output_type": "execute_result"
    }
   ],
   "source": [
    "pol['Poluente'].value_counts()"
   ]
  },
  {
   "cell_type": "code",
   "execution_count": 13,
   "id": "b26965ef",
   "metadata": {},
   "outputs": [
    {
     "data": {
      "text/plain": [
       "array(['ug/m3'], dtype=object)"
      ]
     },
     "execution_count": 13,
     "metadata": {},
     "output_type": "execute_result"
    }
   ],
   "source": [
    "pol['Unidade'].unique()"
   ]
  },
  {
   "cell_type": "code",
   "execution_count": 14,
   "id": "0b65c108",
   "metadata": {},
   "outputs": [
    {
     "name": "stdout",
     "output_type": "stream",
     "text": [
      "        Data      Hora          Estacao Poluente        Valor\n",
      "0 2020-01-01  01:00:00  Cerqueira César       CO   748.596882\n",
      "1 2020-01-01  02:00:00  Cerqueira César       CO   623.830735\n",
      "2 2020-01-01  03:00:00  Cerqueira César       CO   873.363029\n",
      "3 2020-01-01  04:00:00  Cerqueira César       CO  1122.895323\n",
      "4 2020-01-02  06:00:00  Cerqueira César       CO   249.532294\n"
     ]
    }
   ],
   "source": [
    "# Selecionando as colunas que iremos usar\n",
    "\n",
    "pol = pol.drop(columns=['Tipo', 'Unidade', 'Codigo'])\n",
    "print(pol.head())\n"
   ]
  },
  {
   "cell_type": "code",
   "execution_count": 15,
   "id": "70b02434",
   "metadata": {},
   "outputs": [],
   "source": [
    "# Salvar o dataframe resultante como um arquivo CSV\n",
    "pol.to_csv('C:\\\\Users\\\\kika_\\\\OneDrive\\\\Área de Trabalho\\\\dados\\\\pol.csv', encoding='utf-8')\n"
   ]
  },
  {
   "cell_type": "code",
   "execution_count": null,
   "id": "e72e3ddc",
   "metadata": {},
   "outputs": [],
   "source": []
  }
 ],
 "metadata": {
  "kernelspec": {
   "display_name": "Python 3 (ipykernel)",
   "language": "python",
   "name": "python3"
  },
  "language_info": {
   "codemirror_mode": {
    "name": "ipython",
    "version": 3
   },
   "file_extension": ".py",
   "mimetype": "text/x-python",
   "name": "python",
   "nbconvert_exporter": "python",
   "pygments_lexer": "ipython3",
   "version": "3.9.13"
  }
 },
 "nbformat": 4,
 "nbformat_minor": 5
}
